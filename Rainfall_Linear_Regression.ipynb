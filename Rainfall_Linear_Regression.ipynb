{
 "cells": [
  {
   "cell_type": "code",
   "execution_count": 1,
   "metadata": {},
   "outputs": [],
   "source": [
    "import pandas as pd\n",
    "import numpy as np\n",
    "from sklearn.linear_model import LinearRegression\n",
    "import matplotlib.pyplot as plt"
   ]
  },
  {
   "cell_type": "code",
   "execution_count": 2,
   "metadata": {},
   "outputs": [],
   "source": [
    "data = pd.read_csv('final_dataset.csv')"
   ]
  },
  {
   "cell_type": "code",
   "execution_count": 44,
   "metadata": {},
   "outputs": [
    {
     "data": {
      "text/plain": [
       "2"
      ]
     },
     "execution_count": 44,
     "metadata": {},
     "output_type": "execute_result"
    }
   ],
   "source": [
    "# all the columns except the last column in final dataset are the \n",
    "# independent variables that will be trained to predict the output\n",
    "\n",
    "X = data.drop(['PrecipitationSumInches'], axis = 1)\n",
    "X.ndim"
   ]
  },
  {
   "cell_type": "code",
   "execution_count": 46,
   "metadata": {},
   "outputs": [
    {
     "name": "stdout",
     "output_type": "stream",
     "text": [
      "1\n",
      "2\n"
     ]
    }
   ],
   "source": [
    "# Y is the output, i.e the last column of dataset\n",
    "Y = data['PrecipitationSumInches']\n",
    "\n",
    "print(Y.ndim)\n",
    "# reshape it into a 2D vector because\n",
    "# when we apply the fit function we get an error\n",
    "# because it expects a 2D array\n",
    "# so Reshape\n",
    "Y = Y.values.reshape(-1, 1)\n",
    "print(Y.ndim)\n"
   ]
  },
  {
   "cell_type": "code",
   "execution_count": 62,
   "metadata": {},
   "outputs": [],
   "source": [
    "# Taking a random day for classification\n",
    "res_day = 798\n",
    "days = [i for i in range(Y.size)]\n"
   ]
  },
  {
   "cell_type": "code",
   "execution_count": 63,
   "metadata": {},
   "outputs": [
    {
     "data": {
      "text/plain": [
       "LinearRegression(copy_X=True, fit_intercept=True, n_jobs=None, normalize=False)"
      ]
     },
     "execution_count": 63,
     "metadata": {},
     "output_type": "execute_result"
    }
   ],
   "source": [
    "# lr is a Linear Regression object\n",
    "lr = LinearRegression()\n",
    "\n",
    "# fit our data to the object\n",
    "lr.fit(X, Y)"
   ]
  },
  {
   "cell_type": "code",
   "execution_count": 64,
   "metadata": {},
   "outputs": [
    {
     "name": "stdout",
     "output_type": "stream",
     "text": [
      "[[74.  ]\n",
      " [60.  ]\n",
      " [45.  ]\n",
      " [67.  ]\n",
      " [49.  ]\n",
      " [43.  ]\n",
      " [33.  ]\n",
      " [45.  ]\n",
      " [57.  ]\n",
      " [29.68]\n",
      " [10.  ]\n",
      " [ 7.  ]\n",
      " [ 2.  ]\n",
      " [ 0.  ]\n",
      " [20.  ]\n",
      " [ 4.  ]\n",
      " [31.  ]]\n",
      "Reshape\n",
      "[[74.   60.   45.   67.   49.   43.   33.   45.   57.   29.68 10.    7.\n",
      "   2.    0.   20.    4.   31.  ]]\n"
     ]
    }
   ],
   "source": [
    "# Give a sample input to test our model\n",
    "# a 2D vector having sample values for all the columns to test\n",
    "\n",
    "inp = np.array([[74], [60], [45], [67], [49], [43], [33], [45], \n",
    "                [57], [29.68], [10], [7], [2], [0], [20], [4], [31]]) \n",
    "\n",
    "print(inp)\n",
    "print(\"Reshape\")\n",
    "# Reshape where ever we have 1, it adds a attribute just to convert\n",
    "# into a 2D array. Where as -1 states that it has to remain as it is\n",
    "# for example here 1, -1 means, that number of columns will remain as it is\n",
    "# but it'll create a row for those 100 cols, so as to make a 2D array\n",
    "# NEW DIMENSION IS ADDED WHEREIN WE SPECIFY 1\n",
    "inp = inp.reshape(1, -1)\n",
    "print(inp)"
   ]
  },
  {
   "cell_type": "code",
   "execution_count": 65,
   "metadata": {},
   "outputs": [
    {
     "name": "stdout",
     "output_type": "stream",
     "text": [
      "The precipitation in inches for the given input is:  [[1.33868402]]\n"
     ]
    }
   ],
   "source": [
    "# Now we have trained our dataset\n",
    "# We are ready to predict the output\n",
    "print('The precipitation in inches for the given input is: ', lr.predict(inp))"
   ]
  },
  {
   "cell_type": "code",
   "execution_count": 66,
   "metadata": {},
   "outputs": [
    {
     "data": {
      "image/png": "[encoded data removed]",
      "text/plain": [
       "<Figure size 432x288 with 1 Axes>"
      ]
     },
     "metadata": {
      "needs_background": "light"
     },
     "output_type": "display_data"
    }
   ],
   "source": [
    "# Plot the graph of precipitaion levels\n",
    "# versus the total number of days\n",
    "# one dat, which is in red, is\n",
    "# tracked here. It has a precipitation of 1.33\n",
    "plt.scatter(days, Y, color= 'blue')\n",
    "plt.scatter(days[res_day], Y[res_day], color= 'red')\n",
    "plt.title(\"Precipitation Level\")\n",
    "plt.xlabel(\"Days\")\n",
    "plt.ylabel(\"Precipitation in inches\")\n",
    "plt.show()"
   ]
  },
  {
   "cell_type": "code",
   "execution_count": 61,
   "metadata": {},
   "outputs": [
    {
     "name": "stdout",
     "output_type": "stream",
     "text": [
      "Precipitation vs selected attributes graph: \n"
     ]
    },
    {
     "data": {
      "image/png": "[encoded data removed]",
      "text/plain": [
       "<Figure size 432x288 with 6 Axes>"
      ]
     },
     "metadata": {
      "needs_background": "light"
     },
     "output_type": "display_data"
    }
   ],
   "source": [
    "plt.show() \n",
    "x_vis = X.filter(['TempAvgF', 'DewPointAvgF', 'HumidityAvgPercent', \n",
    "                  'SeaLevelPressureAvgInches', 'VisibilityAvgMiles', \n",
    "                  'WindAvgMPH'], axis = 1) \n",
    "  \n",
    "# plot a graph with a few features (x values) \n",
    "# against the precipitation or rainfall to observe \n",
    "# the trends \n",
    "  \n",
    "print(\"Precipitation vs selected attributes graph: \") \n",
    "  \n",
    "for i in range(x_vis.columns.size): \n",
    "    plt.subplot(3, 2, i + 1) \n",
    "    plt.scatter(days, x_vis[x_vis.columns.values[i][:100]], \n",
    "                                               color = 'g') \n",
    "  \n",
    "    plt.scatter(days[res_day],  \n",
    "                x_vis[x_vis.columns.values[i]][res_day], \n",
    "                color ='r') \n",
    "  \n",
    "    plt.title(x_vis.columns.values[i]) \n",
    "  \n",
    "plt.show() "
   ]
  },
  {
   "cell_type": "code",
   "execution_count": null,
   "metadata": {},
   "outputs": [],
   "source": []
  }
 ],
 "metadata": {
  "kernelspec": {
   "display_name": "Python 3",
   "language": "python",
   "name": "python3"
  },
  "language_info": {
   "codemirror_mode": {
    "name": "ipython",
    "version": 3
   },
   "file_extension": ".py",
   "mimetype": "text/x-python",
   "name": "python",
   "nbconvert_exporter": "python",
   "pygments_lexer": "ipython3",
   "version": "3.7.0"
  }
 },
 "nbformat": 4,
 "nbformat_minor": 4
}
